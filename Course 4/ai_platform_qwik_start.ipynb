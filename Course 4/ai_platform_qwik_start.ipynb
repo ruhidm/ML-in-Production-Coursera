{
 "cells": [
  {
   "cell_type": "markdown",
   "metadata": {},
   "source": [
    "## AI Platform: Qwik Start\n",
    "\n",
    "This lab gives you an introductory, end-to-end experience of training and prediction on AI Platform. The lab will use a census dataset to:\n",
    "\n",
    "- Create a TensorFlow 2.x training application and validate it locally.\n",
    "- Run your training job on a single worker instance in the cloud.\n",
    "- Deploy a model to support prediction.\n",
    "- Request an online prediction and see the response."
   ]
  },
  {
   "cell_type": "code",
   "execution_count": 1,
   "metadata": {
    "tags": []
   },
   "outputs": [],
   "source": [
    "import os"
   ]
  },
  {
   "cell_type": "markdown",
   "metadata": {},
   "source": [
    "### Step 1: Get your training data\n",
    "\n",
    "The relevant data files, adult.data and adult.test, are hosted in a public Cloud Storage bucket.\n",
    "\n",
    "You can read the files directly from Cloud Storage or copy them to your local environment. For this lab you will download the samples for local training, and later upload them to your own Cloud Storage bucket for cloud training.\n",
    "\n",
    "Run the following command to download the data to a local file directory and set variables that point to the downloaded data files:"
   ]
  },
  {
   "cell_type": "code",
   "execution_count": 2,
   "metadata": {
    "tags": []
   },
   "outputs": [
    {
     "name": "stderr",
     "output_type": "stream",
     "text": [
      "Copying gs://cloud-samples-data/ml-engine/census/data/adult.data.csv...\n",
      "Copying gs://cloud-samples-data/ml-engine/census/data/adult.test.csv...         \n",
      "Copying gs://cloud-samples-data/ml-engine/census/data/census.test.csv...        \n",
      "Copying gs://cloud-samples-data/ml-engine/census/data/census.train.csv...       \n",
      "Copying gs://cloud-samples-data/ml-engine/census/data/test.json...              \n",
      "Copying gs://cloud-samples-data/ml-engine/census/data/test.csv...               \n",
      "- [6/6 files][ 10.7 MiB/ 10.7 MiB] 100% Done                                    \n",
      "Operation completed over 6 objects/10.7 MiB.                                     \n"
     ]
    }
   ],
   "source": [
    "%%bash\n",
    "\n",
    "mkdir data\n",
    "gsutil -m cp gs://cloud-samples-data/ml-engine/census/data/* data/"
   ]
  },
  {
   "cell_type": "code",
   "execution_count": 3,
   "metadata": {
    "tags": []
   },
   "outputs": [],
   "source": [
    "%%bash\n",
    "\n",
    "export TRAIN_DATA=$(pwd)/data/adult.data.csv\n",
    "export EVAL_DATA=$(pwd)/data/adult.test.csv"
   ]
  },
  {
   "cell_type": "markdown",
   "metadata": {},
   "source": [
    "Inspect what the data looks like by looking at the first couple of rows:"
   ]
  },
  {
   "cell_type": "code",
   "execution_count": 4,
   "metadata": {
    "tags": []
   },
   "outputs": [
    {
     "name": "stdout",
     "output_type": "stream",
     "text": [
      "39, State-gov, 77516, Bachelors, 13, Never-married, Adm-clerical, Not-in-family, White, Male, 2174, 0, 40, United-States, <=50K\n",
      "50, Self-emp-not-inc, 83311, Bachelors, 13, Married-civ-spouse, Exec-managerial, Husband, White, Male, 0, 0, 13, United-States, <=50K\n",
      "38, Private, 215646, HS-grad, 9, Divorced, Handlers-cleaners, Not-in-family, White, Male, 0, 0, 40, United-States, <=50K\n",
      "53, Private, 234721, 11th, 7, Married-civ-spouse, Handlers-cleaners, Husband, Black, Male, 0, 0, 40, United-States, <=50K\n",
      "28, Private, 338409, Bachelors, 13, Married-civ-spouse, Prof-specialty, Wife, Black, Female, 0, 0, 40, Cuba, <=50K\n",
      "37, Private, 284582, Masters, 14, Married-civ-spouse, Exec-managerial, Wife, White, Female, 0, 0, 40, United-States, <=50K\n",
      "49, Private, 160187, 9th, 5, Married-spouse-absent, Other-service, Not-in-family, Black, Female, 0, 0, 16, Jamaica, <=50K\n",
      "52, Self-emp-not-inc, 209642, HS-grad, 9, Married-civ-spouse, Exec-managerial, Husband, White, Male, 0, 0, 45, United-States, >50K\n",
      "31, Private, 45781, Masters, 14, Never-married, Prof-specialty, Not-in-family, White, Female, 14084, 0, 50, United-States, >50K\n",
      "42, Private, 159449, Bachelors, 13, Married-civ-spouse, Exec-managerial, Husband, White, Male, 5178, 0, 40, United-States, >50K\n"
     ]
    }
   ],
   "source": [
    "%%bash\n",
    "\n",
    "head data/adult.data.csv"
   ]
  },
  {
   "cell_type": "markdown",
   "metadata": {},
   "source": [
    "### Step 2: Run a local training job\n",
    "\n",
    "A local training job loads your Python training program and starts a training process in an environment that's similar to that of a live Cloud AI Platform cloud training job.\n"
   ]
  },
  {
   "cell_type": "markdown",
   "metadata": {},
   "source": [
    "#### Step 2.1: Create files to hold the Python program\n",
    "\n",
    "To do that, let's create three files. The first, called util.py, will contain utility methods for cleaning and preprocessing the data, as well as performing any feature engineering needed by transforming and normalizing the data."
   ]
  },
  {
   "cell_type": "code",
   "execution_count": 5,
   "metadata": {
    "tags": []
   },
   "outputs": [],
   "source": [
    "%%bash\n",
    "mkdir -p trainer\n",
    "touch trainer/__init__.py"
   ]
  },
  {
   "cell_type": "code",
   "execution_count": 6,
   "metadata": {
    "tags": []
   },
   "outputs": [
    {
     "name": "stdout",
     "output_type": "stream",
     "text": [
      "Writing trainer/util.py\n"
     ]
    }
   ],
   "source": [
    "%%writefile trainer/util.py\n",
    "from __future__ import absolute_import\n",
    "from __future__ import division\n",
    "from __future__ import print_function\n",
    "\n",
    "import os\n",
    "from six.moves import urllib\n",
    "import tempfile\n",
    "\n",
    "import numpy as np\n",
    "import pandas as pd\n",
    "import tensorflow as tf\n",
    "\n",
    "# Storage directory\n",
    "DATA_DIR = os.path.join(tempfile.gettempdir(), 'census_data')\n",
    "\n",
    "# Download options.\n",
    "DATA_URL = (\n",
    "    'https://storage.googleapis.com/cloud-samples-data/ai-platform/census'\n",
    "    '/data')\n",
    "TRAINING_FILE = 'adult.data.csv'\n",
    "EVAL_FILE = 'adult.test.csv'\n",
    "TRAINING_URL = '%s/%s' % (DATA_URL, TRAINING_FILE)\n",
    "EVAL_URL = '%s/%s' % (DATA_URL, EVAL_FILE)\n",
    "\n",
    "# These are the features in the dataset.\n",
    "# Dataset information: https://archive.ics.uci.edu/ml/datasets/census+income\n",
    "_CSV_COLUMNS = [\n",
    "    'age', 'workclass', 'fnlwgt', 'education', 'education_num',\n",
    "    'marital_status', 'occupation', 'relationship', 'race', 'gender',\n",
    "    'capital_gain', 'capital_loss', 'hours_per_week', 'native_country',\n",
    "    'income_bracket'\n",
    "]\n",
    "\n",
    "# This is the label (target) we want to predict.\n",
    "_LABEL_COLUMN = 'income_bracket'\n",
    "\n",
    "# These are columns we will not use as features for training. There are many\n",
    "# reasons not to use certain attributes of data for training. Perhaps their\n",
    "# values are noisy or inconsistent, or perhaps they encode bias that we do not\n",
    "# want our model to learn. For a deep dive into the features of this Census\n",
    "# dataset and the challenges they pose, see the Introduction to ML Fairness\n",
    "# Notebook: https://colab.research.google.com/github/google/eng-edu/blob\n",
    "# /master/ml/cc/exercises/intro_to_fairness.ipynb\n",
    "UNUSED_COLUMNS = ['fnlwgt', 'education', 'gender']\n",
    "\n",
    "_CATEGORICAL_TYPES = {\n",
    "    'workclass': pd.api.types.CategoricalDtype(categories=[\n",
    "        'Federal-gov', 'Local-gov', 'Never-worked', 'Private', 'Self-emp-inc',\n",
    "        'Self-emp-not-inc', 'State-gov', 'Without-pay'\n",
    "    ]),\n",
    "    'marital_status': pd.api.types.CategoricalDtype(categories=[\n",
    "        'Divorced', 'Married-AF-spouse', 'Married-civ-spouse',\n",
    "        'Married-spouse-absent', 'Never-married', 'Separated', 'Widowed'\n",
    "    ]),\n",
    "    'occupation': pd.api.types.CategoricalDtype([\n",
    "        'Adm-clerical', 'Armed-Forces', 'Craft-repair', 'Exec-managerial',\n",
    "        'Farming-fishing', 'Handlers-cleaners', 'Machine-op-inspct',\n",
    "        'Other-service', 'Priv-house-serv', 'Prof-specialty', 'Protective-serv',\n",
    "        'Sales', 'Tech-support', 'Transport-moving'\n",
    "    ]),\n",
    "    'relationship': pd.api.types.CategoricalDtype(categories=[\n",
    "        'Husband', 'Not-in-family', 'Other-relative', 'Own-child', 'Unmarried',\n",
    "        'Wife'\n",
    "    ]),\n",
    "    'race': pd.api.types.CategoricalDtype(categories=[\n",
    "        'Amer-Indian-Eskimo', 'Asian-Pac-Islander', 'Black', 'Other', 'White'\n",
    "    ]),\n",
    "    'native_country': pd.api.types.CategoricalDtype(categories=[\n",
    "        'Cambodia', 'Canada', 'China', 'Columbia', 'Cuba', 'Dominican-Republic',\n",
    "        'Ecuador', 'El-Salvador', 'England', 'France', 'Germany', 'Greece',\n",
    "        'Guatemala', 'Haiti', 'Holand-Netherlands', 'Honduras', 'Hong',\n",
    "        'Hungary',\n",
    "        'India', 'Iran', 'Ireland', 'Italy', 'Jamaica', 'Japan', 'Laos',\n",
    "        'Mexico',\n",
    "        'Nicaragua', 'Outlying-US(Guam-USVI-etc)', 'Peru', 'Philippines',\n",
    "        'Poland',\n",
    "        'Portugal', 'Puerto-Rico', 'Scotland', 'South', 'Taiwan', 'Thailand',\n",
    "        'Trinadad&Tobago', 'United-States', 'Vietnam', 'Yugoslavia'\n",
    "    ]),\n",
    "    'income_bracket': pd.api.types.CategoricalDtype(categories=[\n",
    "        '<=50K', '>50K'\n",
    "    ])\n",
    "}\n",
    "\n",
    "\n",
    "def _download_and_clean_file(filename, url):\n",
    "    \"\"\"Downloads data from url, and makes changes to match the CSV format.\n",
    "\n",
    "    The CSVs may use spaces after the comma delimters (non-standard) or include\n",
    "    rows which do not represent well-formed examples. This function strips out\n",
    "    some of these problems.\n",
    "\n",
    "    Args:\n",
    "      filename: filename to save url to\n",
    "      url: URL of resource to download\n",
    "    \"\"\"\n",
    "    temp_file, _ = urllib.request.urlretrieve(url)\n",
    "    with tf.io.gfile.GFile(temp_file, 'r') as temp_file_object:\n",
    "        with tf.io.gfile.GFile(filename, 'w') as file_object:\n",
    "            for line in temp_file_object:\n",
    "                line = line.strip()\n",
    "                line = line.replace(', ', ',')\n",
    "                if not line or ',' not in line:\n",
    "                    continue\n",
    "                if line[-1] == '.':\n",
    "                    line = line[:-1]\n",
    "                line += '\\n'\n",
    "                file_object.write(line)\n",
    "    tf.io.gfile.remove(temp_file)\n",
    "\n",
    "\n",
    "def download(data_dir):\n",
    "    \"\"\"Downloads census data if it is not already present.\n",
    "\n",
    "    Args:\n",
    "      data_dir: directory where we will access/save the census data\n",
    "    \"\"\"\n",
    "    tf.io.gfile.makedirs(data_dir)\n",
    "\n",
    "    training_file_path = os.path.join(data_dir, TRAINING_FILE)\n",
    "    if not tf.io.gfile.exists(training_file_path):\n",
    "        _download_and_clean_file(training_file_path, TRAINING_URL)\n",
    "\n",
    "    eval_file_path = os.path.join(data_dir, EVAL_FILE)\n",
    "    if not tf.io.gfile.exists(eval_file_path):\n",
    "        _download_and_clean_file(eval_file_path, EVAL_URL)\n",
    "\n",
    "    return training_file_path, eval_file_path\n",
    "\n",
    "\n",
    "def preprocess(dataframe):\n",
    "    \"\"\"Converts categorical features to numeric. Removes unused columns.\n",
    "\n",
    "    Args:\n",
    "      dataframe: Pandas dataframe with raw data\n",
    "\n",
    "    Returns:\n",
    "      Dataframe with preprocessed data\n",
    "    \"\"\"\n",
    "    dataframe = dataframe.drop(columns=UNUSED_COLUMNS)\n",
    "\n",
    "    # Convert integer valued (numeric) columns to floating point\n",
    "    numeric_columns = dataframe.select_dtypes(['int64']).columns\n",
    "    dataframe[numeric_columns] = dataframe[numeric_columns].astype('float32')\n",
    "\n",
    "    # Convert categorical columns to numeric\n",
    "    cat_columns = dataframe.select_dtypes(['object']).columns\n",
    "    dataframe[cat_columns] = dataframe[cat_columns].apply(lambda x: x.astype(\n",
    "        _CATEGORICAL_TYPES[x.name]))\n",
    "    dataframe[cat_columns] = dataframe[cat_columns].apply(lambda x: x.cat.codes)\n",
    "    return dataframe\n",
    "\n",
    "\n",
    "def standardize(dataframe):\n",
    "    \"\"\"Scales numerical columns using their means and standard deviation to get\n",
    "    z-scores: the mean of each numerical column becomes 0, and the standard\n",
    "    deviation becomes 1. This can help the model converge during training.\n",
    "\n",
    "    Args:\n",
    "      dataframe: Pandas dataframe\n",
    "\n",
    "    Returns:\n",
    "      Input dataframe with the numerical columns scaled to z-scores\n",
    "    \"\"\"\n",
    "    dtypes = list(zip(dataframe.dtypes.index, map(str, dataframe.dtypes)))\n",
    "    # Normalize numeric columns.\n",
    "    for column, dtype in dtypes:\n",
    "        if dtype == 'float32':\n",
    "            dataframe[column] -= dataframe[column].mean()\n",
    "            dataframe[column] /= dataframe[column].std()\n",
    "    return dataframe\n",
    "\n",
    "\n",
    "def load_data():\n",
    "    \"\"\"Loads data into preprocessed (train_x, train_y, eval_y, eval_y)\n",
    "    dataframes.\n",
    "\n",
    "    Returns:\n",
    "      A tuple (train_x, train_y, eval_x, eval_y), where train_x and eval_x are\n",
    "      Pandas dataframes with features for training and train_y and eval_y are\n",
    "      numpy arrays with the corresponding labels.\n",
    "    \"\"\"\n",
    "    # Download Census dataset: Training and eval csv files.\n",
    "    training_file_path, eval_file_path = download(DATA_DIR)\n",
    "\n",
    "    # This census data uses the value '?' for missing entries. We use\n",
    "    # na_values to\n",
    "    # find ? and set it to NaN.\n",
    "    # https://pandas.pydata.org/pandas-docs/stable/generated/pandas.read_csv\n",
    "    # .html\n",
    "    train_df = pd.read_csv(training_file_path, names=_CSV_COLUMNS,\n",
    "                           na_values='?')\n",
    "    eval_df = pd.read_csv(eval_file_path, names=_CSV_COLUMNS, na_values='?')\n",
    "\n",
    "    train_df = preprocess(train_df)\n",
    "    eval_df = preprocess(eval_df)\n",
    "\n",
    "    # Split train and eval data with labels. The pop method copies and removes\n",
    "    # the label column from the dataframe.\n",
    "    train_x, train_y = train_df, train_df.pop(_LABEL_COLUMN)\n",
    "    eval_x, eval_y = eval_df, eval_df.pop(_LABEL_COLUMN)\n",
    "\n",
    "    # Join train_x and eval_x to normalize on overall means and standard\n",
    "    # deviations. Then separate them again.\n",
    "    all_x = pd.concat([train_x, eval_x], keys=['train', 'eval'])\n",
    "    all_x = standardize(all_x)\n",
    "    train_x, eval_x = all_x.xs('train'), all_x.xs('eval')\n",
    "\n",
    "    # Reshape label columns for use with tf.data.Dataset\n",
    "    train_y = np.asarray(train_y).astype('float32').reshape((-1, 1))\n",
    "    eval_y = np.asarray(eval_y).astype('float32').reshape((-1, 1))\n",
    "\n",
    "    return train_x, train_y, eval_x, eval_y"
   ]
  },
  {
   "cell_type": "markdown",
   "metadata": {},
   "source": [
    "The second file, called model.py, defines the input function and the model architecture. In this example, we use tf.data API for the data pipeline and create the model using the Keras Sequential API. We define a DNN with an input layer and 3 additonal layers using the Relu activation function. Since the task is a binary classification, the output layer uses the sigmoid activation."
   ]
  },
  {
   "cell_type": "code",
   "execution_count": 7,
   "metadata": {
    "tags": []
   },
   "outputs": [
    {
     "name": "stdout",
     "output_type": "stream",
     "text": [
      "Writing trainer/model.py\n"
     ]
    }
   ],
   "source": [
    "%%writefile trainer/model.py\n",
    "from __future__ import absolute_import\n",
    "from __future__ import division\n",
    "from __future__ import print_function\n",
    "\n",
    "import tensorflow as tf\n",
    "\n",
    "\n",
    "def input_fn(features, labels, shuffle, num_epochs, batch_size):\n",
    "    \"\"\"Generates an input function to be used for model training.\n",
    "\n",
    "    Args:\n",
    "      features: numpy array of features used for training or inference\n",
    "      labels: numpy array of labels for each example\n",
    "      shuffle: boolean for whether to shuffle the data or not (set True for\n",
    "        training, False for evaluation)\n",
    "      num_epochs: number of epochs to provide the data for\n",
    "      batch_size: batch size for training\n",
    "\n",
    "    Returns:\n",
    "      A tf.data.Dataset that can provide data to the Keras model for training or\n",
    "        evaluation\n",
    "    \"\"\"\n",
    "    if labels is None:\n",
    "        inputs = features\n",
    "    else:\n",
    "        inputs = (features, labels)\n",
    "    dataset = tf.data.Dataset.from_tensor_slices(inputs)\n",
    "\n",
    "    if shuffle:\n",
    "        dataset = dataset.shuffle(buffer_size=len(features))\n",
    "\n",
    "    # We call repeat after shuffling, rather than before, to prevent separate\n",
    "    # epochs from blending together.\n",
    "    dataset = dataset.repeat(num_epochs)\n",
    "    dataset = dataset.batch(batch_size)\n",
    "    return dataset\n",
    "\n",
    "\n",
    "def create_keras_model(input_dim, learning_rate):\n",
    "    \"\"\"Creates Keras Model for Binary Classification.\n",
    "\n",
    "    The single output node + Sigmoid activation makes this a Logistic\n",
    "    Regression.\n",
    "\n",
    "    Args:\n",
    "      input_dim: How many features the input has\n",
    "      learning_rate: Learning rate for training\n",
    "\n",
    "    Returns:\n",
    "      The compiled Keras model (still needs to be trained)\n",
    "    \"\"\"\n",
    "    Dense = tf.keras.layers.Dense\n",
    "    model = tf.keras.Sequential(\n",
    "        [\n",
    "            Dense(100, activation=tf.nn.relu, kernel_initializer='uniform',\n",
    "                  input_shape=(input_dim,)),\n",
    "            Dense(75, activation=tf.nn.relu),\n",
    "            Dense(50, activation=tf.nn.relu),\n",
    "            Dense(25, activation=tf.nn.relu),\n",
    "            Dense(1, activation=tf.nn.sigmoid)\n",
    "        ])\n",
    "\n",
    "    # Custom Optimizer:\n",
    "    # https://www.tensorflow.org/api_docs/python/tf/train/RMSPropOptimizer\n",
    "    optimizer = tf.keras.optimizers.RMSprop(lr=learning_rate)\n",
    "\n",
    "    # Compile Keras model\n",
    "    model.compile(\n",
    "        loss='binary_crossentropy', optimizer=optimizer, metrics=['accuracy'])\n",
    "    return model"
   ]
  },
  {
   "cell_type": "markdown",
   "metadata": {},
   "source": [
    "The last file, called task.py, trains on data loaded and preprocessed in util.py. Using the tf.distribute.MirroredStrategy() scope, it is possible to train on a distributed fashion. The trained model is then saved in a TensorFlow SavedModel format."
   ]
  },
  {
   "cell_type": "code",
   "execution_count": 8,
   "metadata": {
    "tags": []
   },
   "outputs": [
    {
     "name": "stdout",
     "output_type": "stream",
     "text": [
      "Writing trainer/task.py\n"
     ]
    }
   ],
   "source": [
    "%%writefile trainer/task.py\n",
    "from __future__ import absolute_import\n",
    "from __future__ import division\n",
    "from __future__ import print_function\n",
    "\n",
    "import argparse\n",
    "import os\n",
    "\n",
    "from . import model\n",
    "from . import util\n",
    "\n",
    "import tensorflow as tf\n",
    "\n",
    "\n",
    "def get_args():\n",
    "    \"\"\"Argument parser.\n",
    "\n",
    "    Returns:\n",
    "      Dictionary of arguments.\n",
    "    \"\"\"\n",
    "    parser = argparse.ArgumentParser()\n",
    "    parser.add_argument(\n",
    "        '--job-dir',\n",
    "        type=str,\n",
    "        required=True,\n",
    "        help='local or GCS location for writing checkpoints and exporting '\n",
    "             'models')\n",
    "    parser.add_argument(\n",
    "        '--num-epochs',\n",
    "        type=int,\n",
    "        default=20,\n",
    "        help='number of times to go through the data, default=20')\n",
    "    parser.add_argument(\n",
    "        '--batch-size',\n",
    "        default=128,\n",
    "        type=int,\n",
    "        help='number of records to read during each training step, default=128')\n",
    "    parser.add_argument(\n",
    "        '--learning-rate',\n",
    "        default=.01,\n",
    "        type=float,\n",
    "        help='learning rate for gradient descent, default=.01')\n",
    "    parser.add_argument(\n",
    "        '--verbosity',\n",
    "        choices=['DEBUG', 'ERROR', 'FATAL', 'INFO', 'WARN'],\n",
    "        default='INFO')\n",
    "    args, _ = parser.parse_known_args()\n",
    "    return args\n",
    "\n",
    "\n",
    "def train_and_evaluate(args):\n",
    "    \"\"\"Trains and evaluates the Keras model.\n",
    "\n",
    "    Uses the Keras model defined in model.py and trains on data loaded and\n",
    "    preprocessed in util.py. Saves the trained model in TensorFlow SavedModel\n",
    "    format to the path defined in part by the --job-dir argument.\n",
    "\n",
    "    Args:\n",
    "      args: dictionary of arguments - see get_args() for details\n",
    "    \"\"\"\n",
    "\n",
    "    train_x, train_y, eval_x, eval_y = util.load_data()\n",
    "\n",
    "    # dimensions\n",
    "    num_train_examples, input_dim = train_x.shape\n",
    "    num_eval_examples = eval_x.shape[0]\n",
    "\n",
    "    # Create the Keras Model\n",
    "    keras_model = model.create_keras_model(\n",
    "        input_dim=input_dim, learning_rate=args.learning_rate)\n",
    "\n",
    "    # Pass a numpy array by passing DataFrame.values\n",
    "    training_dataset = model.input_fn(\n",
    "        features=train_x.values,\n",
    "        labels=train_y,\n",
    "        shuffle=True,\n",
    "        num_epochs=args.num_epochs,\n",
    "        batch_size=args.batch_size)\n",
    "\n",
    "    # Pass a numpy array by passing DataFrame.values\n",
    "    validation_dataset = model.input_fn(\n",
    "        features=eval_x.values,\n",
    "        labels=eval_y,\n",
    "        shuffle=False,\n",
    "        num_epochs=args.num_epochs,\n",
    "        batch_size=num_eval_examples)\n",
    "\n",
    "    # Setup Learning Rate decay.\n",
    "    lr_decay_cb = tf.keras.callbacks.LearningRateScheduler(\n",
    "        lambda epoch: args.learning_rate + 0.02 * (0.5 ** (1 + epoch)),\n",
    "        verbose=True)\n",
    "\n",
    "    # Setup TensorBoard callback.\n",
    "    tensorboard_cb = tf.keras.callbacks.TensorBoard(\n",
    "        os.path.join(args.job_dir, 'keras_tensorboard'),\n",
    "        histogram_freq=1)\n",
    "\n",
    "    # Train model\n",
    "    keras_model.fit(\n",
    "        training_dataset,\n",
    "        steps_per_epoch=int(num_train_examples / args.batch_size),\n",
    "        epochs=args.num_epochs,\n",
    "        validation_data=validation_dataset,\n",
    "        validation_steps=1,\n",
    "        verbose=1,\n",
    "        callbacks=[lr_decay_cb, tensorboard_cb])\n",
    "\n",
    "    export_path = os.path.join(args.job_dir, 'keras_export')\n",
    "    tf.keras.models.save_model(keras_model, export_path)\n",
    "    print('Model exported to: {}'.format(export_path))\n",
    "\n",
    "\n",
    "\n",
    "if __name__ == '__main__':\n",
    "    strategy = tf.distribute.MirroredStrategy()\n",
    "    with strategy.scope():\n",
    "        args = get_args()\n",
    "        tf.compat.v1.logging.set_verbosity(args.verbosity)\n",
    "        train_and_evaluate(args)\n"
   ]
  },
  {
   "cell_type": "markdown",
   "metadata": {},
   "source": [
    "#### Step 2.2: Run a training job locally using the Python training program\n",
    "\n",
    "**NOTE** When you run the same training job on AI Platform later in the lab, you'll see that the command is not much different from the above.\n",
    "\n",
    "Specify an output directory and set a MODEL_DIR variable to hold the trained model, then run the training job locally by running the following command (by default, verbose logging is turned off. You can enable it by setting the --verbosity tag to DEBUG):"
   ]
  },
  {
   "cell_type": "code",
   "execution_count": 9,
   "metadata": {
    "tags": []
   },
   "outputs": [
    {
     "name": "stderr",
     "output_type": "stream",
     "text": [
      "2024-04-19 14:00:04.008518: I tensorflow/core/platform/cpu_feature_guard.cc:193] This TensorFlow binary is optimized with oneAPI Deep Neural Network Library (oneDNN) to use the following CPU instructions in performance-critical operations:  AVX2 FMA\n",
      "To enable them in other operations, rebuild TensorFlow with the appropriate compiler flags.\n",
      "2024-04-19 14:00:05.873733: W tensorflow/compiler/xla/stream_executor/platform/default/dso_loader.cc:64] Could not load dynamic library 'libnvinfer.so.7'; dlerror: libnvinfer.so.7: cannot open shared object file: No such file or directory; LD_LIBRARY_PATH: /usr/local/cuda/lib64:/usr/local/nccl2/lib:/usr/local/cuda/extras/CUPTI/lib64\n",
      "2024-04-19 14:00:05.873912: W tensorflow/compiler/xla/stream_executor/platform/default/dso_loader.cc:64] Could not load dynamic library 'libnvinfer_plugin.so.7'; dlerror: libnvinfer_plugin.so.7: cannot open shared object file: No such file or directory; LD_LIBRARY_PATH: /usr/local/cuda/lib64:/usr/local/nccl2/lib:/usr/local/cuda/extras/CUPTI/lib64\n",
      "2024-04-19 14:00:05.873927: W tensorflow/compiler/tf2tensorrt/utils/py_utils.cc:38] TF-TRT Warning: Cannot dlopen some TensorRT libraries. If you would like to use Nvidia GPU with TensorRT, please make sure the missing libraries mentioned above are installed properly.\n",
      "2024-04-19 14:00:07.995923: W tensorflow/compiler/xla/stream_executor/platform/default/dso_loader.cc:64] Could not load dynamic library 'libcuda.so.1'; dlerror: libcuda.so.1: cannot open shared object file: No such file or directory; LD_LIBRARY_PATH: /usr/local/cuda/lib64:/usr/local/nccl2/lib:/usr/local/cuda/extras/CUPTI/lib64\n",
      "2024-04-19 14:00:07.997135: W tensorflow/compiler/xla/stream_executor/cuda/cuda_driver.cc:265] failed call to cuInit: UNKNOWN ERROR (303)\n",
      "2024-04-19 14:00:07.997210: I tensorflow/compiler/xla/stream_executor/cuda/cuda_diagnostics.cc:156] kernel driver does not appear to be running on this host (rm-20240419-074920): /proc/driver/nvidia/version does not exist\n",
      "2024-04-19 14:00:08.005181: I tensorflow/core/platform/cpu_feature_guard.cc:193] This TensorFlow binary is optimized with oneAPI Deep Neural Network Library (oneDNN) to use the following CPU instructions in performance-critical operations:  AVX2 FMA\n",
      "To enable them in other operations, rebuild TensorFlow with the appropriate compiler flags.\n",
      "WARNING:tensorflow:There are non-GPU devices in `tf.distribute.Strategy`, not using nccl allreduce.\n",
      "WARNING:absl:`lr` is deprecated, please use `learning_rate` instead, or use the legacy optimizer, e.g.,tf.keras.optimizers.legacy.RMSprop.\n",
      "2024-04-19 14:00:10.203484: W tensorflow/core/grappler/optimizers/data/auto_shard.cc:784] AUTO sharding policy will apply DATA sharding policy as it failed to apply FILE sharding policy because of the following reason: Found an unshardable source dataset: name: \"TensorSliceDataset/_2\"\n",
      "op: \"TensorSliceDataset\"\n",
      "input: \"Placeholder/_0\"\n",
      "input: \"Placeholder/_1\"\n",
      "attr {\n",
      "  key: \"Toutput_types\"\n",
      "  value {\n",
      "    list {\n",
      "      type: DT_FLOAT\n",
      "      type: DT_FLOAT\n",
      "    }\n",
      "  }\n",
      "}\n",
      "attr {\n",
      "  key: \"_cardinality\"\n",
      "  value {\n",
      "    i: 32561\n",
      "  }\n",
      "}\n",
      "attr {\n",
      "  key: \"is_files\"\n",
      "  value {\n",
      "    b: false\n",
      "  }\n",
      "}\n",
      "attr {\n",
      "  key: \"metadata\"\n",
      "  value {\n",
      "    s: \"\\n\\024TensorSliceDataset:0\"\n",
      "  }\n",
      "}\n",
      "attr {\n",
      "  key: \"output_shapes\"\n",
      "  value {\n",
      "    list {\n",
      "      shape {\n",
      "        dim {\n",
      "          size: 11\n",
      "        }\n",
      "      }\n",
      "      shape {\n",
      "        dim {\n",
      "          size: 1\n",
      "        }\n",
      "      }\n",
      "    }\n",
      "  }\n",
      "}\n",
      "attr {\n",
      "  key: \"replicate_on_split\"\n",
      "  value {\n",
      "    b: false\n",
      "  }\n",
      "}\n",
      "experimental_type {\n",
      "  type_id: TFT_PRODUCT\n",
      "  args {\n",
      "    type_id: TFT_DATASET\n",
      "    args {\n",
      "      type_id: TFT_PRODUCT\n",
      "      args {\n",
      "        type_id: TFT_TENSOR\n",
      "        args {\n",
      "          type_id: TFT_FLOAT\n",
      "        }\n",
      "      }\n",
      "      args {\n",
      "        type_id: TFT_TENSOR\n",
      "        args {\n",
      "          type_id: TFT_FLOAT\n",
      "        }\n",
      "      }\n",
      "    }\n",
      "  }\n",
      "}\n",
      "\n",
      "2024-04-19 14:00:10.499968: W tensorflow/core/framework/dataset.cc:769] Input of GeneratorDatasetOp::Dataset will not be optimized because the dataset does not implement the AsGraphDefInternal() method needed to apply optimizations.\n"
     ]
    },
    {
     "name": "stdout",
     "output_type": "stream",
     "text": [
      "\n",
      "Epoch 1: LearningRateScheduler setting learning rate to 0.02.\n",
      "Epoch 1/20\n"
     ]
    },
    {
     "name": "stderr",
     "output_type": "stream",
     "text": [
      "2024-04-19 14:00:14.404984: W tensorflow/core/grappler/optimizers/data/auto_shard.cc:784] AUTO sharding policy will apply DATA sharding policy as it failed to apply FILE sharding policy because of the following reason: Found an unshardable source dataset: name: \"TensorSliceDataset/_2\"\n",
      "op: \"TensorSliceDataset\"\n",
      "input: \"Placeholder/_0\"\n",
      "input: \"Placeholder/_1\"\n",
      "attr {\n",
      "  key: \"Toutput_types\"\n",
      "  value {\n",
      "    list {\n",
      "      type: DT_FLOAT\n",
      "      type: DT_FLOAT\n",
      "    }\n",
      "  }\n",
      "}\n",
      "attr {\n",
      "  key: \"_cardinality\"\n",
      "  value {\n",
      "    i: 16278\n",
      "  }\n",
      "}\n",
      "attr {\n",
      "  key: \"is_files\"\n",
      "  value {\n",
      "    b: false\n",
      "  }\n",
      "}\n",
      "attr {\n",
      "  key: \"metadata\"\n",
      "  value {\n",
      "    s: \"\\n\\024TensorSliceDataset:4\"\n",
      "  }\n",
      "}\n",
      "attr {\n",
      "  key: \"output_shapes\"\n",
      "  value {\n",
      "    list {\n",
      "      shape {\n",
      "        dim {\n",
      "          size: 11\n",
      "        }\n",
      "      }\n",
      "      shape {\n",
      "        dim {\n",
      "          size: 1\n",
      "        }\n",
      "      }\n",
      "    }\n",
      "  }\n",
      "}\n",
      "attr {\n",
      "  key: \"replicate_on_split\"\n",
      "  value {\n",
      "    b: false\n",
      "  }\n",
      "}\n",
      "experimental_type {\n",
      "  type_id: TFT_PRODUCT\n",
      "  args {\n",
      "    type_id: TFT_DATASET\n",
      "    args {\n",
      "      type_id: TFT_PRODUCT\n",
      "      args {\n",
      "        type_id: TFT_TENSOR\n",
      "        args {\n",
      "          type_id: TFT_FLOAT\n",
      "        }\n",
      "      }\n",
      "      args {\n",
      "        type_id: TFT_TENSOR\n",
      "        args {\n",
      "          type_id: TFT_FLOAT\n",
      "        }\n",
      "      }\n",
      "    }\n",
      "  }\n",
      "}\n",
      "\n"
     ]
    },
    {
     "name": "stdout",
     "output_type": "stream",
     "text": [
      "254/254 [==============================] - 6s 12ms/step - loss: 0.4790 - accuracy: 0.7959 - val_loss: 0.3804 - val_accuracy: 0.8337 - lr: 0.0200\n",
      "\n",
      "Epoch 2: LearningRateScheduler setting learning rate to 0.015.\n",
      "Epoch 2/20\n",
      "254/254 [==============================] - 1s 6ms/step - loss: 0.3525 - accuracy: 0.8361 - val_loss: 0.3318 - val_accuracy: 0.8417 - lr: 0.0150\n",
      "\n",
      "Epoch 3: LearningRateScheduler setting learning rate to 0.0125.\n",
      "Epoch 3/20\n",
      "254/254 [==============================] - 1s 5ms/step - loss: 0.3387 - accuracy: 0.8424 - val_loss: 0.3353 - val_accuracy: 0.8424 - lr: 0.0125\n",
      "\n",
      "Epoch 4: LearningRateScheduler setting learning rate to 0.01125.\n",
      "Epoch 4/20\n",
      "254/254 [==============================] - 1s 4ms/step - loss: 0.3351 - accuracy: 0.8428 - val_loss: 0.3216 - val_accuracy: 0.8481 - lr: 0.0113\n",
      "\n",
      "Epoch 5: LearningRateScheduler setting learning rate to 0.010625.\n",
      "Epoch 5/20\n",
      "254/254 [==============================] - 1s 4ms/step - loss: 0.3314 - accuracy: 0.8464 - val_loss: 0.3253 - val_accuracy: 0.8443 - lr: 0.0106\n",
      "\n",
      "Epoch 6: LearningRateScheduler setting learning rate to 0.0103125.\n",
      "Epoch 6/20\n",
      "254/254 [==============================] - 1s 4ms/step - loss: 0.3307 - accuracy: 0.8471 - val_loss: 0.3253 - val_accuracy: 0.8459 - lr: 0.0103\n",
      "\n",
      "Epoch 7: LearningRateScheduler setting learning rate to 0.01015625.\n",
      "Epoch 7/20\n",
      "254/254 [==============================] - 1s 4ms/step - loss: 0.3278 - accuracy: 0.8480 - val_loss: 0.3207 - val_accuracy: 0.8495 - lr: 0.0102\n",
      "\n",
      "Epoch 8: LearningRateScheduler setting learning rate to 0.010078125.\n",
      "Epoch 8/20\n",
      "254/254 [==============================] - 1s 4ms/step - loss: 0.3270 - accuracy: 0.8482 - val_loss: 0.3216 - val_accuracy: 0.8500 - lr: 0.0101\n",
      "\n",
      "Epoch 9: LearningRateScheduler setting learning rate to 0.0100390625.\n",
      "Epoch 9/20\n",
      "254/254 [==============================] - 1s 5ms/step - loss: 0.3250 - accuracy: 0.8490 - val_loss: 0.3207 - val_accuracy: 0.8479 - lr: 0.0100\n",
      "\n",
      "Epoch 10: LearningRateScheduler setting learning rate to 0.01001953125.\n",
      "Epoch 10/20\n",
      "254/254 [==============================] - 1s 4ms/step - loss: 0.3241 - accuracy: 0.8482 - val_loss: 0.3205 - val_accuracy: 0.8490 - lr: 0.0100\n",
      "\n",
      "Epoch 11: LearningRateScheduler setting learning rate to 0.010009765625.\n",
      "Epoch 11/20\n",
      "254/254 [==============================] - 1s 4ms/step - loss: 0.3228 - accuracy: 0.8488 - val_loss: 0.3185 - val_accuracy: 0.8531 - lr: 0.0100\n",
      "\n",
      "Epoch 12: LearningRateScheduler setting learning rate to 0.010004882812500001.\n",
      "Epoch 12/20\n",
      "254/254 [==============================] - 1s 4ms/step - loss: 0.3203 - accuracy: 0.8522 - val_loss: 0.3272 - val_accuracy: 0.8491 - lr: 0.0100\n",
      "\n",
      "Epoch 13: LearningRateScheduler setting learning rate to 0.01000244140625.\n",
      "Epoch 13/20\n",
      "254/254 [==============================] - 1s 4ms/step - loss: 0.3220 - accuracy: 0.8497 - val_loss: 0.3190 - val_accuracy: 0.8503 - lr: 0.0100\n",
      "\n",
      "Epoch 14: LearningRateScheduler setting learning rate to 0.010001220703125.\n",
      "Epoch 14/20\n",
      "254/254 [==============================] - 1s 4ms/step - loss: 0.3224 - accuracy: 0.8488 - val_loss: 0.3193 - val_accuracy: 0.8518 - lr: 0.0100\n",
      "\n",
      "Epoch 15: LearningRateScheduler setting learning rate to 0.0100006103515625.\n",
      "Epoch 15/20\n",
      "254/254 [==============================] - 1s 4ms/step - loss: 0.3218 - accuracy: 0.8496 - val_loss: 0.3276 - val_accuracy: 0.8484 - lr: 0.0100\n",
      "\n",
      "Epoch 16: LearningRateScheduler setting learning rate to 0.01000030517578125.\n",
      "Epoch 16/20\n",
      "254/254 [==============================] - 1s 6ms/step - loss: 0.3206 - accuracy: 0.8495 - val_loss: 0.3202 - val_accuracy: 0.8542 - lr: 0.0100\n",
      "\n",
      "Epoch 17: LearningRateScheduler setting learning rate to 0.010000152587890625.\n",
      "Epoch 17/20\n",
      "254/254 [==============================] - 1s 4ms/step - loss: 0.3200 - accuracy: 0.8509 - val_loss: 0.3228 - val_accuracy: 0.8500 - lr: 0.0100\n",
      "\n",
      "Epoch 18: LearningRateScheduler setting learning rate to 0.010000076293945313.\n",
      "Epoch 18/20\n",
      "254/254 [==============================] - 1s 4ms/step - loss: 0.3197 - accuracy: 0.8507 - val_loss: 0.3172 - val_accuracy: 0.8515 - lr: 0.0100\n",
      "\n",
      "Epoch 19: LearningRateScheduler setting learning rate to 0.010000038146972657.\n",
      "Epoch 19/20\n",
      "254/254 [==============================] - 1s 4ms/step - loss: 0.3209 - accuracy: 0.8497 - val_loss: 0.3267 - val_accuracy: 0.8518 - lr: 0.0100\n",
      "\n",
      "Epoch 20: LearningRateScheduler setting learning rate to 0.010000019073486329.\n",
      "Epoch 20/20\n",
      "254/254 [==============================] - 1s 5ms/step - loss: 0.3200 - accuracy: 0.8512 - val_loss: 0.3191 - val_accuracy: 0.8512 - lr: 0.0100\n"
     ]
    },
    {
     "name": "stderr",
     "output_type": "stream",
     "text": [
      "WARNING:absl:Found untraced functions such as _update_step_xla while saving (showing 1 of 1). These functions will not be directly callable after loading.\n",
      "INFO:tensorflow:Assets written to: output/keras_export/assets\n",
      "INFO:tensorflow:Assets written to: output/keras_export/assets\n"
     ]
    },
    {
     "name": "stdout",
     "output_type": "stream",
     "text": [
      "Model exported to: output/keras_export\n"
     ]
    }
   ],
   "source": [
    "%%bash\n",
    "\n",
    "MODEL_DIR=output\n",
    "gcloud ai-platform local train \\\n",
    "    --module-name trainer.task \\\n",
    "    --package-path trainer/ \\\n",
    "    --job-dir $MODEL_DIR \\\n",
    "    -- \\\n",
    "    --train-files $TRAIN_DATA \\\n",
    "    --eval-files $EVAL_DATA \\\n",
    "    --train-steps 1000 \\\n",
    "    --eval-steps 100"
   ]
  },
  {
   "cell_type": "markdown",
   "metadata": {},
   "source": [
    "Check if the output has been written to the output folder:"
   ]
  },
  {
   "cell_type": "code",
   "execution_count": 10,
   "metadata": {
    "tags": []
   },
   "outputs": [
    {
     "name": "stdout",
     "output_type": "stream",
     "text": [
      "assets\n",
      "fingerprint.pb\n",
      "keras_metadata.pb\n",
      "saved_model.pb\n",
      "variables\n"
     ]
    }
   ],
   "source": [
    "%%bash\n",
    "\n",
    "ls output/keras_export/"
   ]
  },
  {
   "cell_type": "markdown",
   "metadata": {},
   "source": [
    "#### Step 2.3: Prepare input for prediction\n",
    "\n",
    "To receive valid and useful predictions, you must preprocess input for prediction in the same way that training data was preprocessed. In a production system, you may want to create a preprocessing pipeline that can be used identically at training time and prediction time.\n",
    "\n",
    "For this exercise, use the training package's data-loading code to select a random sample from the evaluation data. This data is in the form that was used to evaluate accuracy after each epoch of training, so it can be used to send test predictions without further preprocessing.\n"
   ]
  },
  {
   "cell_type": "markdown",
   "metadata": {},
   "source": [
    "Run the following snippet of code to preprocess the raw data from the adult.test.csv file. Here, we are grabbing 5 examples to run predictions on:"
   ]
  },
  {
   "cell_type": "code",
   "execution_count": 11,
   "metadata": {
    "tags": []
   },
   "outputs": [
    {
     "name": "stderr",
     "output_type": "stream",
     "text": [
      "2024-04-19 14:00:56.334698: I tensorflow/core/platform/cpu_feature_guard.cc:193] This TensorFlow binary is optimized with oneAPI Deep Neural Network Library (oneDNN) to use the following CPU instructions in performance-critical operations:  AVX2 FMA\n",
      "To enable them in other operations, rebuild TensorFlow with the appropriate compiler flags.\n",
      "2024-04-19 14:00:57.657965: W tensorflow/compiler/xla/stream_executor/platform/default/dso_loader.cc:64] Could not load dynamic library 'libnvinfer.so.7'; dlerror: libnvinfer.so.7: cannot open shared object file: No such file or directory; LD_LIBRARY_PATH: /usr/local/cuda/lib64:/usr/local/nccl2/lib:/usr/local/cuda/extras/CUPTI/lib64\n",
      "2024-04-19 14:00:57.658096: W tensorflow/compiler/xla/stream_executor/platform/default/dso_loader.cc:64] Could not load dynamic library 'libnvinfer_plugin.so.7'; dlerror: libnvinfer_plugin.so.7: cannot open shared object file: No such file or directory; LD_LIBRARY_PATH: /usr/local/cuda/lib64:/usr/local/nccl2/lib:/usr/local/cuda/extras/CUPTI/lib64\n",
      "2024-04-19 14:00:57.658107: W tensorflow/compiler/tf2tensorrt/utils/py_utils.cc:38] TF-TRT Warning: Cannot dlopen some TensorRT libraries. If you would like to use Nvidia GPU with TensorRT, please make sure the missing libraries mentioned above are installed properly.\n"
     ]
    }
   ],
   "source": [
    "from trainer import util\n",
    "_, _, eval_x, eval_y = util.load_data()\n",
    "\n",
    "prediction_input = eval_x.sample(5)\n",
    "prediction_targets = eval_y[prediction_input.index]"
   ]
  },
  {
   "cell_type": "markdown",
   "metadata": {},
   "source": [
    "Check the numerical representation of the features by printing the preprocessed data:"
   ]
  },
  {
   "cell_type": "code",
   "execution_count": 12,
   "metadata": {
    "tags": []
   },
   "outputs": [
    {
     "name": "stdout",
     "output_type": "stream",
     "text": [
      "            age  workclass  education_num  marital_status  occupation  \\\n",
      "8851   1.703494         -1      -0.419265               2          -1   \n",
      "13368  0.244801          4       1.914503               2           9   \n",
      "11968 -0.776285         -1      -0.419265               0          -1   \n",
      "9539  -0.703350          3       0.747619               0          12   \n",
      "10411  0.171866          3      -0.419265               2           6   \n",
      "\n",
      "       relationship  race  capital_gain  capital_loss  hours_per_week  \\\n",
      "8851              0     4     -0.144792     -0.217132       -0.034039   \n",
      "13368             0     4     13.273897     -0.217132        4.727315   \n",
      "11968             4     4     -0.144792     -0.217132        1.176475   \n",
      "9539              1     4     -0.144792     -0.217132       -0.034039   \n",
      "10411             0     4     -0.144792     -0.217132       -0.034039   \n",
      "\n",
      "       native_country  \n",
      "8851               38  \n",
      "13368              38  \n",
      "11968              38  \n",
      "9539               38  \n",
      "10411              38  \n"
     ]
    }
   ],
   "source": [
    "print(prediction_input)"
   ]
  },
  {
   "cell_type": "markdown",
   "metadata": {},
   "source": [
    "Notice that categorical fields, like occupation, have already been converted to integers (with the same mapping that was used for training). Numerical fields, like age, have been scaled to a z-score. Some fields have been dropped from the original data.\n",
    "\n",
    "Export the prediction input to a newline-delimited JSON file:"
   ]
  },
  {
   "cell_type": "code",
   "execution_count": 13,
   "metadata": {
    "tags": []
   },
   "outputs": [],
   "source": [
    "import json\n",
    "\n",
    "with open('test.json', 'w') as json_file:\n",
    "  for row in prediction_input.values.tolist():\n",
    "    json.dump(row, json_file)\n",
    "    json_file.write('\\n')"
   ]
  },
  {
   "cell_type": "markdown",
   "metadata": {},
   "source": [
    "Inspect the .json file:"
   ]
  },
  {
   "cell_type": "code",
   "execution_count": 14,
   "metadata": {
    "tags": []
   },
   "outputs": [
    {
     "name": "stdout",
     "output_type": "stream",
     "text": [
      "[1.7034941911697388, -1.0, -0.41926509141921997, 2.0, -1.0, 0.0, 4.0, -0.1447920799255371, -0.2171318680047989, -0.03403923660516739, 38.0]\n",
      "[0.24480070173740387, 4.0, 1.914502739906311, 2.0, 9.0, 0.0, 4.0, 13.273897171020508, -0.2171318680047989, 4.727315425872803, 38.0]\n",
      "[-0.7762847542762756, -1.0, -0.41926509141921997, 0.0, -1.0, 4.0, 4.0, -0.1447920799255371, -0.2171318680047989, 1.1764745712280273, 38.0]\n",
      "[-0.7033500671386719, 3.0, 0.7476188540458679, 0.0, 12.0, 1.0, 4.0, -0.1447920799255371, -0.2171318680047989, -0.03403923660516739, 38.0]\n",
      "[0.1718660145998001, 3.0, -0.41926509141921997, 2.0, 6.0, 0.0, 4.0, -0.1447920799255371, -0.2171318680047989, -0.03403923660516739, 38.0]\n"
     ]
    }
   ],
   "source": [
    "%%bash\n",
    "\n",
    "cat test.json"
   ]
  },
  {
   "cell_type": "markdown",
   "metadata": {},
   "source": [
    "#### Step 2.4: Use your trained model for prediction\n",
    "\n",
    "Once you've trained your TensorFlow model, you can use it for prediction on new data. In this case, you've trained a census model to predict income category given some information about a person.\n",
    "\n",
    "Run the following command to run prediction on the test.json file we created above:"
   ]
  },
  {
   "cell_type": "markdown",
   "metadata": {},
   "source": [
    "**Note:** If you get a \"Bad magic number in .pyc file\" error, go to the terminal and run:\n",
    "> cd ../../usr/lib/google-cloud-sdk/lib/googlecloudsdk/command_lib/ml_engine/\n",
    "\n",
    "> sudo rm *.pyc"
   ]
  },
  {
   "cell_type": "code",
   "execution_count": 15,
   "metadata": {
    "tags": []
   },
   "outputs": [
    {
     "name": "stderr",
     "output_type": "stream",
     "text": [
      "If the signature defined in the model is not serving_default then you must specify it via --signature-name flag, otherwise the command may fail.\n",
      "WARNING: 2024-04-19 14:00:59.930536: I tensorflow/core/platform/cpu_feature_guard.cc:193] This TensorFlow binary is optimized with oneAPI Deep Neural Network Library (oneDNN) to use the following CPU instructions in performance-critical operations:  AVX2 FMA\n",
      "To enable them in other operations, rebuild TensorFlow with the appropriate compiler flags.\n",
      "2024-04-19 14:01:02.106716: W tensorflow/compiler/xla/stream_executor/platform/default/dso_loader.cc:64] Could not load dynamic library 'libnvinfer.so.7'; dlerror: libnvinfer.so.7: cannot open shared object file: No such file or directory; LD_LIBRARY_PATH: /usr/local/cuda/lib64:/usr/local/nccl2/lib:/usr/local/cuda/extras/CUPTI/lib64\n",
      "2024-04-19 14:01:02.107106: W tensorflow/compiler/xla/stream_executor/platform/default/dso_loader.cc:64] Could not load dynamic library 'libnvinfer_plugin.so.7'; dlerror: libnvinfer_plugin.so.7: cannot open shared object file: No such file or directory; LD_LIBRARY_PATH: /usr/local/cuda/lib64:/usr/local/nccl2/lib:/usr/local/cuda/extras/CUPTI/lib64\n",
      "2024-04-19 14:01:02.107181: W tensorflow/compiler/tf2tensorrt/utils/py_utils.cc:38] TF-TRT Warning: Cannot dlopen some TensorRT libraries. If you would like to use Nvidia GPU with TensorRT, please make sure the missing libraries mentioned above are installed properly.\n",
      "WARNING:tensorflow:From /opt/conda/lib/python3.10/site-packages/tensorflow/python/compat/v2_compat.py:107: disable_resource_variables (from tensorflow.python.ops.variable_scope) is deprecated and will be removed in a future version.\n",
      "Instructions for updating:\n",
      "non-resource variables are not supported in the long term\n",
      "2024-04-19 14:01:04.497912: W tensorflow/compiler/xla/stream_executor/platform/default/dso_loader.cc:64] Could not load dynamic library 'libcuda.so.1'; dlerror: libcuda.so.1: cannot open shared object file: No such file or directory; LD_LIBRARY_PATH: /usr/local/cuda/lib64:/usr/local/nccl2/lib:/usr/local/cuda/extras/CUPTI/lib64\n",
      "2024-04-19 14:01:04.498069: W tensorflow/compiler/xla/stream_executor/cuda/cuda_driver.cc:265] failed call to cuInit: UNKNOWN ERROR (303)\n",
      "2024-04-19 14:01:04.498130: I tensorflow/compiler/xla/stream_executor/cuda/cuda_diagnostics.cc:156] kernel driver does not appear to be running on this host (rm-20240419-074920): /proc/driver/nvidia/version does not exist\n",
      "2024-04-19 14:01:04.500254: I tensorflow/core/platform/cpu_feature_guard.cc:193] This TensorFlow binary is optimized with oneAPI Deep Neural Network Library (oneDNN) to use the following CPU instructions in performance-critical operations:  AVX2 FMA\n",
      "To enable them in other operations, rebuild TensorFlow with the appropriate compiler flags.\n",
      "WARNING:tensorflow:From /usr/lib/google-cloud-sdk/lib/third_party/ml_sdk/cloud/ml/prediction/frameworks/tf_prediction_lib.py:235: load (from tensorflow.python.saved_model.loader_impl) is deprecated and will be removed in a future version.\n",
      "Instructions for updating:\n",
      "Use `tf.saved_model.load` instead.\n",
      "WARNING:tensorflow:From /usr/lib/google-cloud-sdk/lib/third_party/ml_sdk/cloud/ml/prediction/frameworks/tf_prediction_lib.py:235: load (from tensorflow.python.saved_model.loader_impl) is deprecated and will be removed in a future version.\n",
      "Instructions for updating:\n",
      "Use `tf.saved_model.load` instead.\n",
      "2024-04-19 14:01:04.573607: I tensorflow/compiler/mlir/mlir_graph_optimization_pass.cc:357] MLIR V1 optimization pass is not enabled\n",
      "WARNING:root:Error updating signature __saved_model_init_op: The name 'NoOp' refers to an Operation, not a Tensor. Tensor names must be of the form \"<op_name>:<output_index>\".\n",
      "\n"
     ]
    },
    {
     "name": "stdout",
     "output_type": "stream",
     "text": [
      "DENSE_4\n",
      "[0.192094087600708]\n",
      "[1.0]\n",
      "[0.02187475562095642]\n",
      "[0.06450312584638596]\n",
      "[0.30936911702156067]\n"
     ]
    }
   ],
   "source": [
    "%%bash\n",
    "\n",
    "gcloud ai-platform local predict \\\n",
    "    --model-dir output/keras_export/ \\\n",
    "    --json-instances ./test.json"
   ]
  },
  {
   "cell_type": "markdown",
   "metadata": {},
   "source": [
    "Since the model's last layer uses a sigmoid function for its activation, outputs between 0 and 0.5 represent negative predictions **(\"<=50K\")** and outputs between 0.5 and 1 represent positive ones **(\">50K\")**."
   ]
  },
  {
   "cell_type": "markdown",
   "metadata": {},
   "source": [
    "### Step 3: Run your training job in the cloud\n",
    "\n",
    "Now that you've validated your model by running it locally, you will now get practice training using Cloud AI Platform.\n",
    "\n",
    "**Note:** The initial job request will take several minutes to start, but subsequent jobs run more quickly. This enables quick iteration as you develop and validate your training job.\n",
    "\n",
    "First, set the following variables:\n"
   ]
  },
  {
   "cell_type": "code",
   "execution_count": 16,
   "metadata": {
    "tags": []
   },
   "outputs": [
    {
     "name": "stdout",
     "output_type": "stream",
     "text": [
      "Your current GCP Project Name is: qwiklabs-gcp-01-7bc0b1738e48\n"
     ]
    }
   ],
   "source": [
    "%%bash\n",
    "export PROJECT=$(gcloud config list project --format \"value(core.project)\")\n",
    "echo \"Your current GCP Project Name is: \"${PROJECT}"
   ]
  },
  {
   "cell_type": "code",
   "execution_count": 17,
   "metadata": {
    "tags": []
   },
   "outputs": [],
   "source": [
    "PROJECT = \"YOUR_PROJECT_NAME\"  # Replace with your project name\n",
    "BUCKET_NAME=PROJECT+\"-aiplatform\"\n",
    "REGION=\"us-central1\""
   ]
  },
  {
   "cell_type": "code",
   "execution_count": 18,
   "metadata": {
    "tags": []
   },
   "outputs": [],
   "source": [
    "os.environ[\"PROJECT\"] = PROJECT\n",
    "os.environ[\"BUCKET_NAME\"] = BUCKET_NAME\n",
    "os.environ[\"REGION\"] = REGION\n",
    "os.environ[\"TFVERSION\"] = \"2.11\"\n",
    "os.environ[\"PYTHONVERSION\"] = \"3.7\""
   ]
  },
  {
   "cell_type": "markdown",
   "metadata": {},
   "source": [
    "#### Step 3.1: Set up a Cloud Storage bucket\n",
    "\n",
    "The AI Platform services need to access Cloud Storage (GCS) to read and write data during model training and batch prediction.\n",
    "\n",
    "Create a bucket using BUCKET_NAME as the name for the bucket and copy the data into it."
   ]
  },
  {
   "cell_type": "code",
   "execution_count": 19,
   "metadata": {
    "tags": []
   },
   "outputs": [
    {
     "name": "stderr",
     "output_type": "stream",
     "text": [
      "Creating gs://YOUR_PROJECT_NAME-aiplatform/...\n",
      "BadRequestException: 400 Invalid bucket name: 'YOUR_PROJECT_NAME-aiplatform'\n",
      "BucketNotFoundException: 404 gs://YOUR_PROJECT_NAME-aiplatform bucket does not exist.\n"
     ]
    },
    {
     "ename": "CalledProcessError",
     "evalue": "Command 'b'\\nif ! gsutil ls | grep -q gs://${BUCKET_NAME}; then\\n    gsutil mb -l ${REGION} gs://${BUCKET_NAME}\\nfi\\ngsutil cp -r data gs://$BUCKET_NAME/data\\n'' returned non-zero exit status 1.",
     "output_type": "error",
     "traceback": [
      "\u001b[0;31m---------------------------------------------------------------------------\u001b[0m",
      "\u001b[0;31mCalledProcessError\u001b[0m                        Traceback (most recent call last)",
      "Cell \u001b[0;32mIn[19], line 1\u001b[0m\n\u001b[0;32m----> 1\u001b[0m \u001b[43mget_ipython\u001b[49m\u001b[43m(\u001b[49m\u001b[43m)\u001b[49m\u001b[38;5;241;43m.\u001b[39;49m\u001b[43mrun_cell_magic\u001b[49m\u001b[43m(\u001b[49m\u001b[38;5;124;43m'\u001b[39;49m\u001b[38;5;124;43mbash\u001b[39;49m\u001b[38;5;124;43m'\u001b[39;49m\u001b[43m,\u001b[49m\u001b[43m \u001b[49m\u001b[38;5;124;43m'\u001b[39;49m\u001b[38;5;124;43m'\u001b[39;49m\u001b[43m,\u001b[49m\u001b[43m \u001b[49m\u001b[38;5;124;43m'\u001b[39;49m\u001b[38;5;130;43;01m\\n\u001b[39;49;00m\u001b[38;5;124;43mif ! gsutil ls | grep -q gs://$\u001b[39;49m\u001b[38;5;132;43;01m{BUCKET_NAME}\u001b[39;49;00m\u001b[38;5;124;43m; then\u001b[39;49m\u001b[38;5;130;43;01m\\n\u001b[39;49;00m\u001b[38;5;124;43m    gsutil mb -l $\u001b[39;49m\u001b[38;5;132;43;01m{REGION}\u001b[39;49;00m\u001b[38;5;124;43m gs://$\u001b[39;49m\u001b[38;5;132;43;01m{BUCKET_NAME}\u001b[39;49;00m\u001b[38;5;130;43;01m\\n\u001b[39;49;00m\u001b[38;5;124;43mfi\u001b[39;49m\u001b[38;5;130;43;01m\\n\u001b[39;49;00m\u001b[38;5;124;43mgsutil cp -r data gs://$BUCKET_NAME/data\u001b[39;49m\u001b[38;5;130;43;01m\\n\u001b[39;49;00m\u001b[38;5;124;43m'\u001b[39;49m\u001b[43m)\u001b[49m\n",
      "File \u001b[0;32m/opt/conda/lib/python3.10/site-packages/IPython/core/interactiveshell.py:2517\u001b[0m, in \u001b[0;36mInteractiveShell.run_cell_magic\u001b[0;34m(self, magic_name, line, cell)\u001b[0m\n\u001b[1;32m   2515\u001b[0m \u001b[38;5;28;01mwith\u001b[39;00m \u001b[38;5;28mself\u001b[39m\u001b[38;5;241m.\u001b[39mbuiltin_trap:\n\u001b[1;32m   2516\u001b[0m     args \u001b[38;5;241m=\u001b[39m (magic_arg_s, cell)\n\u001b[0;32m-> 2517\u001b[0m     result \u001b[38;5;241m=\u001b[39m \u001b[43mfn\u001b[49m\u001b[43m(\u001b[49m\u001b[38;5;241;43m*\u001b[39;49m\u001b[43margs\u001b[49m\u001b[43m,\u001b[49m\u001b[43m \u001b[49m\u001b[38;5;241;43m*\u001b[39;49m\u001b[38;5;241;43m*\u001b[39;49m\u001b[43mkwargs\u001b[49m\u001b[43m)\u001b[49m\n\u001b[1;32m   2519\u001b[0m \u001b[38;5;66;03m# The code below prevents the output from being displayed\u001b[39;00m\n\u001b[1;32m   2520\u001b[0m \u001b[38;5;66;03m# when using magics with decorator @output_can_be_silenced\u001b[39;00m\n\u001b[1;32m   2521\u001b[0m \u001b[38;5;66;03m# when the last Python token in the expression is a ';'.\u001b[39;00m\n\u001b[1;32m   2522\u001b[0m \u001b[38;5;28;01mif\u001b[39;00m \u001b[38;5;28mgetattr\u001b[39m(fn, magic\u001b[38;5;241m.\u001b[39mMAGIC_OUTPUT_CAN_BE_SILENCED, \u001b[38;5;28;01mFalse\u001b[39;00m):\n",
      "File \u001b[0;32m/opt/conda/lib/python3.10/site-packages/IPython/core/magics/script.py:154\u001b[0m, in \u001b[0;36mScriptMagics._make_script_magic.<locals>.named_script_magic\u001b[0;34m(line, cell)\u001b[0m\n\u001b[1;32m    152\u001b[0m \u001b[38;5;28;01melse\u001b[39;00m:\n\u001b[1;32m    153\u001b[0m     line \u001b[38;5;241m=\u001b[39m script\n\u001b[0;32m--> 154\u001b[0m \u001b[38;5;28;01mreturn\u001b[39;00m \u001b[38;5;28;43mself\u001b[39;49m\u001b[38;5;241;43m.\u001b[39;49m\u001b[43mshebang\u001b[49m\u001b[43m(\u001b[49m\u001b[43mline\u001b[49m\u001b[43m,\u001b[49m\u001b[43m \u001b[49m\u001b[43mcell\u001b[49m\u001b[43m)\u001b[49m\n",
      "File \u001b[0;32m/opt/conda/lib/python3.10/site-packages/IPython/core/magics/script.py:314\u001b[0m, in \u001b[0;36mScriptMagics.shebang\u001b[0;34m(self, line, cell)\u001b[0m\n\u001b[1;32m    309\u001b[0m \u001b[38;5;28;01mif\u001b[39;00m args\u001b[38;5;241m.\u001b[39mraise_error \u001b[38;5;129;01mand\u001b[39;00m p\u001b[38;5;241m.\u001b[39mreturncode \u001b[38;5;241m!=\u001b[39m \u001b[38;5;241m0\u001b[39m:\n\u001b[1;32m    310\u001b[0m     \u001b[38;5;66;03m# If we get here and p.returncode is still None, we must have\u001b[39;00m\n\u001b[1;32m    311\u001b[0m     \u001b[38;5;66;03m# killed it but not yet seen its return code. We don't wait for it,\u001b[39;00m\n\u001b[1;32m    312\u001b[0m     \u001b[38;5;66;03m# in case it's stuck in uninterruptible sleep. -9 = SIGKILL\u001b[39;00m\n\u001b[1;32m    313\u001b[0m     rc \u001b[38;5;241m=\u001b[39m p\u001b[38;5;241m.\u001b[39mreturncode \u001b[38;5;129;01mor\u001b[39;00m \u001b[38;5;241m-\u001b[39m\u001b[38;5;241m9\u001b[39m\n\u001b[0;32m--> 314\u001b[0m     \u001b[38;5;28;01mraise\u001b[39;00m CalledProcessError(rc, cell)\n",
      "\u001b[0;31mCalledProcessError\u001b[0m: Command 'b'\\nif ! gsutil ls | grep -q gs://${BUCKET_NAME}; then\\n    gsutil mb -l ${REGION} gs://${BUCKET_NAME}\\nfi\\ngsutil cp -r data gs://$BUCKET_NAME/data\\n'' returned non-zero exit status 1."
     ]
    }
   ],
   "source": [
    "%%bash\n",
    "\n",
    "if ! gsutil ls | grep -q gs://${BUCKET_NAME}; then\n",
    "    gsutil mb -l ${REGION} gs://${BUCKET_NAME}\n",
    "fi\n",
    "gsutil cp -r data gs://$BUCKET_NAME/data"
   ]
  },
  {
   "cell_type": "markdown",
   "metadata": {},
   "source": [
    "Set the TRAIN_DATA and EVAL_DATA variables to point to the files:"
   ]
  },
  {
   "cell_type": "code",
   "execution_count": null,
   "metadata": {
    "tags": []
   },
   "outputs": [],
   "source": [
    "%%bash\n",
    "\n",
    "export TRAIN_DATA=gs://$BUCKET_NAME/data/adult.data.csv\n",
    "export EVAL_DATA=gs://$BUCKET_NAME/data/adult.test.csv"
   ]
  },
  {
   "cell_type": "markdown",
   "metadata": {},
   "source": [
    "Use gsutil again to copy the JSON test file test.json to your Cloud Storage bucket:"
   ]
  },
  {
   "cell_type": "code",
   "execution_count": null,
   "metadata": {
    "tags": []
   },
   "outputs": [],
   "source": [
    "%%bash\n",
    "\n",
    "gsutil cp test.json gs://$BUCKET_NAME/data/test.json"
   ]
  },
  {
   "cell_type": "markdown",
   "metadata": {},
   "source": [
    "Set the TEST_JSON variable to point to that file:"
   ]
  },
  {
   "cell_type": "code",
   "execution_count": null,
   "metadata": {
    "tags": []
   },
   "outputs": [],
   "source": [
    "%%bash\n",
    "\n",
    "export TEST_JSON=gs://$BUCKET_NAME/data/test.json"
   ]
  },
  {
   "cell_type": "markdown",
   "metadata": {},
   "source": [
    "**Go back to the lab instructions and check your progress by testing the completed tasks:**\n",
    "\n",
    "**- \"Set up a Google Cloud Storage\".**\n",
    "\n",
    "**- \"Upload the data files to your Cloud Storage bucket\".**"
   ]
  },
  {
   "cell_type": "markdown",
   "metadata": {},
   "source": [
    "#### Step 3.2: Run a single-instance trainer in the cloud\n",
    "\n",
    "With a validated training job that runs in both single-instance and distributed mode, you're now ready to run a training job in the cloud. For this example, we will be requesting a single-instance training job.\n",
    "\n",
    "Use the default BASIC scale tier to run a single-instance training job. The initial job request can take a few minutes to start, but subsequent jobs run more quickly. This enables quick iteration as you develop and validate your training job.\n",
    "\n",
    "Select a name for the initial training run that distinguishes it from any subsequent training runs. For example, we can use date and time to compose the job id.\n",
    "\n",
    "Specify a directory for output generated by AI Platform by setting an OUTPUT_PATH variable to include when requesting training and prediction jobs. The OUTPUT_PATH represents the fully qualified Cloud Storage location for model checkpoints, summaries, and exports. You can use the BUCKET_NAME variable you defined in a previous step. It's a good practice to use the job name as the output directory.\n",
    "\n",
    "Run the following command to submit a training job in the cloud that uses a single process. This time, set the --verbosity tag to DEBUG so that you can inspect the full logging output and retrieve accuracy, loss, and other metrics. The output also contains a number of other warning messages that you can ignore for the purposes of this sample:"
   ]
  },
  {
   "cell_type": "code",
   "execution_count": null,
   "metadata": {
    "tags": []
   },
   "outputs": [],
   "source": [
    "%%bash\n",
    "\n",
    "JOB_ID=census_$(date -u +%y%m%d_%H%M%S)\n",
    "OUTPUT_PATH=gs://$BUCKET_NAME/$JOB_ID\n",
    "gcloud ai-platform jobs submit training $JOB_ID \\\n",
    "    --job-dir $OUTPUT_PATH \\\n",
    "    --runtime-version $TFVERSION \\\n",
    "    --python-version $PYTHONVERSION \\\n",
    "    --module-name trainer.task \\\n",
    "    --package-path trainer/ \\\n",
    "    --region $REGION \\\n",
    "    -- \\\n",
    "    --train-files $TRAIN_DATA \\\n",
    "    --eval-files $EVAL_DATA \\\n",
    "    --train-steps 1000 \\\n",
    "    --eval-steps 100 \\\n",
    "    --verbosity DEBUG"
   ]
  },
  {
   "cell_type": "markdown",
   "metadata": {},
   "source": [
    "Set an environment variable with the jobId generated above:"
   ]
  },
  {
   "cell_type": "code",
   "execution_count": null,
   "metadata": {
    "tags": []
   },
   "outputs": [],
   "source": [
    "os.environ[\"JOB_ID\"] = \"YOUR_JOB_ID\" # Replace with your job id"
   ]
  },
  {
   "cell_type": "markdown",
   "metadata": {},
   "source": [
    "You can monitor the progress of your training job by watching the logs on the command line by running:\n",
    "\n",
    "`gcloud ai-platform jobs stream-logs $JOB_ID`\n",
    "\n",
    "Or monitor it in the Console at `AI Platform > Jobs`. Wait until your AI Platform training job is done. It is finished when you see a green check mark by the jobname in the Cloud Console, or when you see the message Job completed successfully from the Cloud Shell command line."
   ]
  },
  {
   "cell_type": "markdown",
   "metadata": {},
   "source": [
    "**Wait for the job to complete before proceeding to the next step.\n",
    "Go back to the lab instructions and check your progress by testing the completed task:**\n",
    "\n",
    "**- \"Run a single-instance trainer in the cloud\".**\n"
   ]
  },
  {
   "cell_type": "markdown",
   "metadata": {},
   "source": [
    "#### Step 3.3: Deploy your model to support prediction\n",
    "\n",
    "By deploying your trained model to AI Platform to serve online prediction requests, you get the benefit of scalable serving. This is useful if you expect your trained model to be hit with many prediction requests in a short period of time.\n",
    "\n",
    "**Note:** You will get `Using endpoint [https://ml.googleapis.com/]` output after running the next cells. If you try to open that link, you will see `404` error message. **You have to ignore it and move forward.**\n",
    "\n",
    "Create an AI Platform model:"
   ]
  },
  {
   "cell_type": "code",
   "execution_count": null,
   "metadata": {
    "tags": []
   },
   "outputs": [],
   "source": [
    "os.environ[\"MODEL_NAME\"] = \"census\""
   ]
  },
  {
   "cell_type": "code",
   "execution_count": null,
   "metadata": {
    "tags": []
   },
   "outputs": [],
   "source": [
    "%%bash\n",
    "\n",
    "gcloud ai-platform models create $MODEL_NAME --regions=$REGION"
   ]
  },
  {
   "cell_type": "markdown",
   "metadata": {},
   "source": [
    "Set the environment variable MODEL_BINARIES to the full path of your exported trained model binaries `$OUTPUT_PATH/keras_export/`."
   ]
  },
  {
   "cell_type": "markdown",
   "metadata": {},
   "source": [
    "You'll deploy this trained model.\n",
    "\n",
    "Run the following command to create a version v1 of your model:"
   ]
  },
  {
   "cell_type": "code",
   "execution_count": null,
   "metadata": {
    "tags": []
   },
   "outputs": [],
   "source": [
    "%%bash\n",
    "\n",
    "OUTPUT_PATH=gs://$BUCKET_NAME/$JOB_ID\n",
    "MODEL_BINARIES=$OUTPUT_PATH/keras_export/\n",
    "gcloud ai-platform versions create v1 \\\n",
    "--model $MODEL_NAME \\\n",
    "--origin $MODEL_BINARIES \\\n",
    "--runtime-version $TFVERSION \\\n",
    "--python-version $PYTHONVERSION \\\n",
    "--region=global"
   ]
  },
  {
   "cell_type": "markdown",
   "metadata": {},
   "source": [
    "It may take several minutes to deploy your trained model. When done, you can see a list of your models using the models list command:"
   ]
  },
  {
   "cell_type": "code",
   "execution_count": null,
   "metadata": {
    "tags": []
   },
   "outputs": [],
   "source": [
    "%%bash\n",
    "\n",
    "gcloud ai-platform models list --region=global"
   ]
  },
  {
   "cell_type": "markdown",
   "metadata": {},
   "source": [
    "**Go back to the lab instructions and check your progress by testing the completed tasks:**\n",
    "\n",
    "**- \"Create an AI Platform model\".**\n",
    "\n",
    "**- \"Create a version v1 of your model\".**"
   ]
  },
  {
   "cell_type": "markdown",
   "metadata": {},
   "source": [
    "#### Step 3.4: Send an online prediction request to your deployed model\n",
    "\n",
    "You can now send prediction requests to your deployed model. The following command sends a prediction request using the test.json.\n",
    "\n",
    "The response includes the probabilities of each label **(>50K and <=50K)** based on the data entry in test.json, thus indicating whether the predicted income is greater than or less than 50,000 dollars."
   ]
  },
  {
   "cell_type": "code",
   "execution_count": null,
   "metadata": {
    "tags": []
   },
   "outputs": [],
   "source": [
    "%%bash\n",
    "\n",
    "gcloud ai-platform predict \\\n",
    "--model $MODEL_NAME \\\n",
    "--version v1 \\\n",
    "--json-instances ./test.json \\\n",
    "--region global"
   ]
  },
  {
   "cell_type": "markdown",
   "metadata": {},
   "source": [
    "**Note:** AI Platform supports batch prediction, too, but it's not included in this lab. See the documentation for more info."
   ]
  },
  {
   "cell_type": "markdown",
   "metadata": {},
   "source": [
    "**Go back to the lab instructions to answer some multiple choice questions to reinforce your uncerstanding of some of these lab's concepts.**"
   ]
  },
  {
   "cell_type": "markdown",
   "metadata": {},
   "source": [
    "### Congratulations!\n",
    "\n",
    "In this lab you've learned how to train a TensorFlow model both locally and on AI Platform, how to prepare data for prediction and to perform predictions both locally and in the Cloud AI Platform."
   ]
  }
 ],
 "metadata": {
  "environment": {
   "kernel": "python3",
   "name": "tf2-cpu.2-11.m119",
   "type": "gcloud",
   "uri": "us-docker.pkg.dev/deeplearning-platform-release/gcr.io/tf2-cpu.2-11:m119"
  },
  "kernelspec": {
   "display_name": "Python 3",
   "language": "python",
   "name": "python3"
  },
  "language_info": {
   "codemirror_mode": {
    "name": "ipython",
    "version": 3
   },
   "file_extension": ".py",
   "mimetype": "text/x-python",
   "name": "python",
   "nbconvert_exporter": "python",
   "pygments_lexer": "ipython3",
   "version": "3.10.14"
  }
 },
 "nbformat": 4,
 "nbformat_minor": 4
}
